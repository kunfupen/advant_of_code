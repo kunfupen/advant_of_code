{
 "cells": [
  {
   "cell_type": "code",
   "execution_count": 28,
   "metadata": {},
   "outputs": [
    {
     "name": "stderr",
     "output_type": "stream",
     "text": [
      "C:\\Users\\kunfu\\AppData\\Local\\Temp\\ipykernel_36688\\503852856.py:5: ParserWarning: Falling back to the 'python' engine because the 'c' engine does not support regex separators (separators > 1 char and different from '\\s+' are interpreted as regex); you can avoid this warning by specifying engine='python'.\n",
      "  df =  pd.read_csv(input, header=None, sep='  ')\n"
     ]
    },
    {
     "name": "stdout",
     "output_type": "stream",
     "text": [
      "2742123\n",
      "21328497\n"
     ]
    }
   ],
   "source": [
    "import pandas as pd\n",
    "\n",
    "# Part 1\n",
    "input = r\"C:\\Users\\kunfu\\OneDrive\\Documents\\input.txt\"\n",
    "df =  pd.read_csv(input, header=None, sep='  ')\n",
    "\n",
    "df.columns = ['col1','col2']\n",
    "\n",
    "sorted_col1 = df['col1'].sort_values(ascending=True).reset_index(drop=True)\n",
    "sorted_col2 = df['col2'].sort_values(ascending=True).reset_index(drop=True)\n",
    "\n",
    "sorted_df = pd.DataFrame({'col1':sorted_col1, 'col2':sorted_col2})\n",
    "\n",
    "difference = (sorted_df['col1'] - sorted_df['col2']).abs()\n",
    "print(difference.sum())\n",
    "\n",
    "# Part 2\n",
    "sum = 0\n",
    "for i in df['col1']:\n",
    "    count_col2 = df['col2'].value_counts().get(i, 0)\n",
    "    sum += i * count_col2\n",
    "\n",
    "print(sum)\n"
   ]
  }
 ],
 "metadata": {
  "kernelspec": {
   "display_name": "Python 3",
   "language": "python",
   "name": "python3"
  },
  "language_info": {
   "codemirror_mode": {
    "name": "ipython",
    "version": 3
   },
   "file_extension": ".py",
   "mimetype": "text/x-python",
   "name": "python",
   "nbconvert_exporter": "python",
   "pygments_lexer": "ipython3",
   "version": "3.8.0"
  }
 },
 "nbformat": 4,
 "nbformat_minor": 2
}
